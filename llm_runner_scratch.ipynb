{
 "cells": [
  {
   "cell_type": "code",
   "execution_count": 4,
   "metadata": {},
   "outputs": [],
   "source": [
    "import torch\n",
    "from transformers import pipeline\n",
    "from optparse import OptionParser\n",
    "from transformers import AutoModelForCausalLM, AutoTokenizer\n",
    "import os\n",
    "import json"
   ]
  },
  {
   "cell_type": "code",
   "execution_count": 5,
   "metadata": {},
   "outputs": [],
   "source": [
    "json_path=\"/home/bankerz/Downloads/01_test.json\"\n",
    "\n",
    "with open(json_path) as json_file:\n",
    "    schema_dictionary = json.load(json_file)"
   ]
  },
  {
   "cell_type": "code",
   "execution_count": 12,
   "metadata": {},
   "outputs": [],
   "source": [
    "def schemaToDictionary(schemaList):\n",
    "    '''\n",
    "        Takes nodes or edges list and makes a dictionary you can index list elements using the ID, probably\n",
    "        only worth running this function if you have a really big graph you need to access nodes or edges of\n",
    "        many times, but this option is available for that\n",
    "    '''\n",
    "    newDict={}\n",
    "    for dictionary in schemaList:\n",
    "        newDict[dictionary['id']] = dictionary\n",
    "    return newDict"
   ]
  },
  {
   "cell_type": "code",
   "execution_count": 22,
   "metadata": {},
   "outputs": [
    {
     "data": {
      "text/plain": [
       "[{'id': 'e1-2', 'source': '1', 'target': '2'},\n",
       " {'source': '00001',\n",
       "  'sourceHandle': 'bottom',\n",
       "  'target': '3159559',\n",
       "  'targetHandle': 'top',\n",
       "  'id': 'reactflow__edge-00001bottom-3159559top'},\n",
       " {'source': '00001',\n",
       "  'sourceHandle': 'right',\n",
       "  'target': '3166128',\n",
       "  'targetHandle': 'left',\n",
       "  'id': 'reactflow__edge-00001right-3166128left'},\n",
       " {'source': '3166128',\n",
       "  'sourceHandle': 'bottom',\n",
       "  'target': '3171323',\n",
       "  'targetHandle': 'top',\n",
       "  'id': 'reactflow__edge-3166128bottom-3171323top'},\n",
       " {'source': '3159559',\n",
       "  'sourceHandle': 'right',\n",
       "  'target': '3171323',\n",
       "  'targetHandle': 'left',\n",
       "  'id': 'reactflow__edge-3159559right-3171323left'}]"
      ]
     },
     "execution_count": 22,
     "metadata": {},
     "output_type": "execute_result"
    }
   ],
   "source": [
    "schema_dictionary['edges']\n",
    "#im pretty sure this flow was not made properly, to do the desired effect correctly can circumvent problem by closing loop from bottom to\n",
    "#top, but this might be very confusing for users who will expect source and target to not be dependent on which side but on\n",
    "#which node they drew the edge from, our first version will be side dependent but future versions should figure out on \n",
    "#client side where the edge started from and is going to source and target edges properly\n",
    "#there should also be some visual indication of where inputs and outputs are going, again just publish the website quickly and fix this\n",
    "#in an update"
   ]
  },
  {
   "cell_type": "code",
   "execution_count": 15,
   "metadata": {},
   "outputs": [],
   "source": [
    "test = schemaToDictionary(schema_dictionary['nodes'])"
   ]
  },
  {
   "cell_type": "code",
   "execution_count": 20,
   "metadata": {},
   "outputs": [
    {
     "data": {
      "text/plain": [
       "{'id': '00001',\n",
       " 'type': 'textInput',\n",
       " 'data': {'label': 'You are Frodo. Say something interesting, and respond to text above if you received any.'},\n",
       " 'position': {'x': 195.185336410498, 'y': 46.87644239300134},\n",
       " 'width': 289,\n",
       " 'height': 50,\n",
       " 'selected': False,\n",
       " 'positionAbsolute': {'x': 195.185336410498, 'y': 46.87644239300134},\n",
       " 'dragging': False}"
      ]
     },
     "execution_count": 20,
     "metadata": {},
     "output_type": "execute_result"
    }
   ],
   "source": [
    "test['00001']"
   ]
  },
  {
   "cell_type": "code",
   "execution_count": null,
   "metadata": {},
   "outputs": [],
   "source": [
    "#to start with, I think we should always start from the first node created. May make sense in the future to allow user to specify\n",
    "#what node they want to start with, but i am too lazy to think of what the UX of that would be "
   ]
  },
  {
   "cell_type": "code",
   "execution_count": null,
   "metadata": {},
   "outputs": [],
   "source": [
    "def runSchema(schema_dictionary):\n",
    "    '''\n",
    "        Take a schema and run the flow. This version will simply start from the first node\n",
    "    '''"
   ]
  }
 ],
 "metadata": {
  "kernelspec": {
   "display_name": "Python 3",
   "language": "python",
   "name": "python3"
  },
  "language_info": {
   "codemirror_mode": {
    "name": "ipython",
    "version": 3
   },
   "file_extension": ".py",
   "mimetype": "text/x-python",
   "name": "python",
   "nbconvert_exporter": "python",
   "pygments_lexer": "ipython3",
   "version": "3.10.6"
  },
  "orig_nbformat": 4
 },
 "nbformat": 4,
 "nbformat_minor": 2
}
