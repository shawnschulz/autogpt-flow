{
 "cells": [
  {
   "cell_type": "code",
   "execution_count": 2,
   "metadata": {},
   "outputs": [
    {
     "name": "stdout",
     "output_type": "stream",
     "text": [
      "Requirement already satisfied: torch in /Users/shawnschulz/miniconda3/lib/python3.9/site-packages (2.0.0)\n",
      "Requirement already satisfied: typing-extensions in /Users/shawnschulz/miniconda3/lib/python3.9/site-packages (from torch) (4.4.0)\n",
      "Requirement already satisfied: filelock in /Users/shawnschulz/miniconda3/lib/python3.9/site-packages (from torch) (3.12.0)\n",
      "Requirement already satisfied: networkx in /Users/shawnschulz/miniconda3/lib/python3.9/site-packages (from torch) (2.8.8)\n",
      "Requirement already satisfied: jinja2 in /Users/shawnschulz/miniconda3/lib/python3.9/site-packages (from torch) (3.1.2)\n",
      "Requirement already satisfied: sympy in /Users/shawnschulz/miniconda3/lib/python3.9/site-packages (from torch) (1.11.1)\n",
      "Requirement already satisfied: MarkupSafe>=2.0 in /Users/shawnschulz/miniconda3/lib/python3.9/site-packages (from jinja2->torch) (2.1.1)\n",
      "Requirement already satisfied: mpmath>=0.19 in /Users/shawnschulz/miniconda3/lib/python3.9/site-packages (from sympy->torch) (1.3.0)\n"
     ]
    }
   ],
   "source": [
    "!pip install torch"
   ]
  },
  {
   "cell_type": "code",
   "execution_count": 4,
   "metadata": {},
   "outputs": [],
   "source": [
    "#from transformers import pipeline\n",
    "from optparse import OptionParser\n",
    "#from transformers import AutoModelForCausalLM, AutoTokenizer\n",
    "import os\n",
    "import json"
   ]
  },
  {
   "cell_type": "code",
   "execution_count": 30,
   "metadata": {},
   "outputs": [],
   "source": [
    "json_path=\"/Users/shawnschulz/Downloads/01_test.json\"\n",
    "\n",
    "with open(json_path) as json_file:\n",
    "    schema_dictionary = json.load(json_file)"
   ]
  },
  {
   "cell_type": "code",
   "execution_count": 7,
   "metadata": {},
   "outputs": [],
   "source": [
    "def schemaToDictionary(schemaList):\n",
    "    '''\n",
    "        Takes nodes or edges list and makes a dictionary you can index list elements using the ID, probably\n",
    "        only worth running this function if you have a really big graph you need to access nodes or edges of\n",
    "        many times, but this option is available for that\n",
    "    '''\n",
    "    newDict={}\n",
    "    for dictionary in schemaList:\n",
    "        newDict[dictionary['id']] = dictionary\n",
    "    return newDict"
   ]
  },
  {
   "cell_type": "code",
   "execution_count": 15,
   "metadata": {},
   "outputs": [],
   "source": [
    "def findRoots(schema_dictionary):\n",
    "    '''\n",
    "        Finds the roots of a schema\n",
    "        1. Get all the ids of all nodes, put in a stack\n",
    "        2. Check what targets are currently in the schema\n",
    "        3. Remove them as you find them\n",
    "\n",
    "        Give schema dictionary (direct from json file), a dictionary\n",
    "        Returns the stack of roots of the tree, False if schema nodes have no sources\n",
    "    '''\n",
    "    stack = []\n",
    "    for node in schema_dictionary['nodes']:\n",
    "        stack.append(node['id'])\n",
    "    for edge in schema_dictionary['edges']:\n",
    "        if edge['target'] in stack:\n",
    "            stack.remove(edge['target'])\n",
    "    if len(schema_dictionary['nodes'] != 0) and len(stack == 0):\n",
    "        return False\n",
    "    else:\n",
    "        return stack"
   ]
  },
  {
   "cell_type": "code",
   "execution_count": 19,
   "metadata": {},
   "outputs": [],
   "source": [
    "def removeNodeIDs(id_list, schema_dictionary):\n",
    "    '''\n",
    "        Takes a list of id's to be removed and returns a new schema dictionary with the node\n",
    "        id's removed\n",
    "\n",
    "        Note, when making graph smaller, it will usually make more sense to remove unique\n",
    "        edge id's than nodes. However if there is some reason to this node removal function is here\n",
    "\n",
    "        This is also really slow, consider changing if u actually make graphs really big\n",
    "    '''\n",
    "    new_dictionary = schema_dictionary\n",
    "    for id in id_list:\n",
    "        for node in new_dictionary['nodes']:\n",
    "            if node['id'] == id:\n",
    "                new_dictionary['nodes'].remove(node)\n",
    "    return new_dictionary"
   ]
  },
  {
   "cell_type": "code",
   "execution_count": null,
   "metadata": {},
   "outputs": [],
   "source": [
    "def removeEdgeIDs(id_list, schema_dictionary):\n",
    "    '''\n",
    "        takes a list of edge id's and returns a new schema dictionary with the edge id's removed\n",
    "        Note: important that you remove by edgeid, not source or target since the edge id is unique\n",
    "    '''\n",
    "    new_dictionary = schema_dictionary\n",
    "    for id in id_list:\n",
    "        for edge in new_dictionary['edges']:\n",
    "            if edge['id'] == id:\n",
    "                new_dictionary['edges'].remove(edge)\n",
    "    return new_dictionary"
   ]
  },
  {
   "cell_type": "code",
   "execution_count": 21,
   "metadata": {},
   "outputs": [
    {
     "ename": "IndentationError",
     "evalue": "expected an indented block (5930812.py, line 2)",
     "output_type": "error",
     "traceback": [
      "\u001b[0;36m  Cell \u001b[0;32mIn[21], line 2\u001b[0;36m\u001b[0m\n\u001b[0;31m    #{node_id:____, edge_id:____, prompts:[]\u001b[0m\n\u001b[0m                                            ^\u001b[0m\n\u001b[0;31mIndentationError\u001b[0m\u001b[0;31m:\u001b[0m expected an indented block\n"
     ]
    }
   ],
   "source": [
    "\n"
   ]
  },
  {
   "cell_type": "code",
   "execution_count": 20,
   "metadata": {},
   "outputs": [
    {
     "data": {
      "text/plain": [
       "{'nodes': [{'id': '3159559',\n",
       "   'type': 'textInput',\n",
       "   'data': {'label': 'You are Sam. Say something interesting, and respond to text above if you received any.'},\n",
       "   'position': {'x': 222, 'y': 292},\n",
       "   'width': 324,\n",
       "   'height': 50,\n",
       "   'selected': False,\n",
       "   'positionAbsolute': {'x': 222, 'y': 292},\n",
       "   'dragging': False},\n",
       "  {'id': '3166128',\n",
       "   'type': 'textInput',\n",
       "   'data': {'label': 'You are Legolas. Say something interesting, and respond to text above if you received any.'},\n",
       "   'position': {'x': 570, 'y': 64.1},\n",
       "   'width': 337,\n",
       "   'height': 50,\n",
       "   'selected': False,\n",
       "   'positionAbsolute': {'x': 570, 'y': 64.1},\n",
       "   'dragging': False},\n",
       "  {'id': '3171323',\n",
       "   'type': 'textInput',\n",
       "   'data': {'label': 'You are Aragorn. Say something interesting, and respond to text above if you received any.'},\n",
       "   'position': {'x': 632, 'y': 306.525},\n",
       "   'width': 308,\n",
       "   'height': 50,\n",
       "   'selected': False,\n",
       "   'positionAbsolute': {'x': 632, 'y': 306.525},\n",
       "   'dragging': False}],\n",
       " 'edges': [{'id': 'e1-2', 'source': '1', 'target': '2'},\n",
       "  {'source': '00001',\n",
       "   'sourceHandle': 'bottom',\n",
       "   'target': '3159559',\n",
       "   'targetHandle': 'top',\n",
       "   'id': 'reactflow__edge-00001bottom-3159559top'},\n",
       "  {'source': '00001',\n",
       "   'sourceHandle': 'right',\n",
       "   'target': '3166128',\n",
       "   'targetHandle': 'left',\n",
       "   'id': 'reactflow__edge-00001right-3166128left'},\n",
       "  {'source': '3166128',\n",
       "   'sourceHandle': 'bottom',\n",
       "   'target': '3171323',\n",
       "   'targetHandle': 'top',\n",
       "   'id': 'reactflow__edge-3166128bottom-3171323top'},\n",
       "  {'source': '3159559',\n",
       "   'sourceHandle': 'right',\n",
       "   'target': '3171323',\n",
       "   'targetHandle': 'left',\n",
       "   'id': 'reactflow__edge-3159559right-3171323left'}]}"
      ]
     },
     "execution_count": 20,
     "metadata": {},
     "output_type": "execute_result"
    }
   ],
   "source": [
    "removeNodeIDs(findRoots(schema_dictionary), schema_dictionary)"
   ]
  },
  {
   "cell_type": "code",
   "execution_count": 12,
   "metadata": {},
   "outputs": [
    {
     "data": {
      "text/plain": [
       "[{'id': 'e1-2', 'source': '1', 'target': '2'},\n",
       " {'source': '00001',\n",
       "  'sourceHandle': 'bottom',\n",
       "  'target': '3159559',\n",
       "  'targetHandle': 'top',\n",
       "  'id': 'reactflow__edge-00001bottom-3159559top'},\n",
       " {'source': '00001',\n",
       "  'sourceHandle': 'right',\n",
       "  'target': '3166128',\n",
       "  'targetHandle': 'left',\n",
       "  'id': 'reactflow__edge-00001right-3166128left'},\n",
       " {'source': '3166128',\n",
       "  'sourceHandle': 'bottom',\n",
       "  'target': '3171323',\n",
       "  'targetHandle': 'top',\n",
       "  'id': 'reactflow__edge-3166128bottom-3171323top'},\n",
       " {'source': '3159559',\n",
       "  'sourceHandle': 'right',\n",
       "  'target': '3171323',\n",
       "  'targetHandle': 'left',\n",
       "  'id': 'reactflow__edge-3159559right-3171323left'}]"
      ]
     },
     "execution_count": 12,
     "metadata": {},
     "output_type": "execute_result"
    }
   ],
   "source": [
    "schema_dictionary['edges']\n",
    "#im pretty sure this flow was not made properly, to do the desired effect correctly can circumvent problem by closing loop from bottom to\n",
    "#top, but this might be very confusing for users who will expect source and target to not be dependent on which side but on\n",
    "#which node they drew the edge from, our first version will be side dependent but future versions should figure out on \n",
    "#client side where the edge started from and is going to source and target edges properly\n",
    "#there should also be some visual indication of where inputs and outputs are going, again just publish the website quickly and fix this\n",
    "#in an update"
   ]
  },
  {
   "cell_type": "code",
   "execution_count": 15,
   "metadata": {},
   "outputs": [],
   "source": [
    "test = schemaToDictionary(schema_dictionary['nodes'])"
   ]
  },
  {
   "cell_type": "code",
   "execution_count": 20,
   "metadata": {},
   "outputs": [
    {
     "data": {
      "text/plain": [
       "{'id': '00001',\n",
       " 'type': 'textInput',\n",
       " 'data': {'label': 'You are Frodo. Say something interesting, and respond to text above if you received any.'},\n",
       " 'position': {'x': 195.185336410498, 'y': 46.87644239300134},\n",
       " 'width': 289,\n",
       " 'height': 50,\n",
       " 'selected': False,\n",
       " 'positionAbsolute': {'x': 195.185336410498, 'y': 46.87644239300134},\n",
       " 'dragging': False}"
      ]
     },
     "execution_count": 20,
     "metadata": {},
     "output_type": "execute_result"
    }
   ],
   "source": [
    "test['00001']"
   ]
  },
  {
   "cell_type": "code",
   "execution_count": 52,
   "metadata": {},
   "outputs": [
    {
     "data": {
      "text/plain": [
       "{'nodes': [{'id': '00001',\n",
       "   'type': 'textInput',\n",
       "   'data': {'label': 'You are Frodo. Say something interesting, and respond to text above if you received any.'},\n",
       "   'position': {'x': 195.185336410498, 'y': 46.87644239300134},\n",
       "   'width': 289,\n",
       "   'height': 50,\n",
       "   'selected': False,\n",
       "   'positionAbsolute': {'x': 195.185336410498, 'y': 46.87644239300134},\n",
       "   'dragging': False},\n",
       "  {'id': '3159559',\n",
       "   'type': 'textInput',\n",
       "   'data': {'label': 'You are Sam. Say something interesting, and respond to text above if you received any.'},\n",
       "   'position': {'x': 222, 'y': 292},\n",
       "   'width': 324,\n",
       "   'height': 50,\n",
       "   'selected': False,\n",
       "   'positionAbsolute': {'x': 222, 'y': 292},\n",
       "   'dragging': False},\n",
       "  {'id': '3166128',\n",
       "   'type': 'textInput',\n",
       "   'data': {'label': 'You are Legolas. Say something interesting, and respond to text above if you received any.'},\n",
       "   'position': {'x': 570, 'y': 64.1},\n",
       "   'width': 337,\n",
       "   'height': 50,\n",
       "   'selected': False,\n",
       "   'positionAbsolute': {'x': 570, 'y': 64.1},\n",
       "   'dragging': False},\n",
       "  {'id': '3171323',\n",
       "   'type': 'textInput',\n",
       "   'data': {'label': 'You are Aragorn. Say something interesting, and respond to text above if you received any.'},\n",
       "   'position': {'x': 632, 'y': 306.525},\n",
       "   'width': 308,\n",
       "   'height': 50,\n",
       "   'selected': False,\n",
       "   'positionAbsolute': {'x': 632, 'y': 306.525},\n",
       "   'dragging': False}],\n",
       " 'edges': [{'id': 'e1-2', 'source': '1', 'target': '2'},\n",
       "  {'source': '00001',\n",
       "   'sourceHandle': 'bottom',\n",
       "   'target': '3159559',\n",
       "   'targetHandle': 'top',\n",
       "   'id': 'reactflow__edge-00001bottom-3159559top'},\n",
       "  {'source': '00001',\n",
       "   'sourceHandle': 'right',\n",
       "   'target': '3166128',\n",
       "   'targetHandle': 'left',\n",
       "   'id': 'reactflow__edge-00001right-3166128left'},\n",
       "  {'source': '3166128',\n",
       "   'sourceHandle': 'bottom',\n",
       "   'target': '3171323',\n",
       "   'targetHandle': 'top',\n",
       "   'id': 'reactflow__edge-3166128bottom-3171323top'},\n",
       "  {'source': '3159559',\n",
       "   'sourceHandle': 'right',\n",
       "   'target': '3171323',\n",
       "   'targetHandle': 'left',\n",
       "   'id': 'reactflow__edge-3159559right-3171323left'}]}"
      ]
     },
     "execution_count": 52,
     "metadata": {},
     "output_type": "execute_result"
    }
   ],
   "source": [
    "schema_dictionary"
   ]
  },
  {
   "cell_type": "code",
   "execution_count": null,
   "metadata": {},
   "outputs": [],
   "source": [
    "#to start with, I think we should always start from the first node created. May make sense in the future to allow user to specify\n",
    "#what node they want to start with, but i am too lazy to think of what the UX of that would be "
   ]
  },
  {
   "cell_type": "code",
   "execution_count": 48,
   "metadata": {},
   "outputs": [],
   "source": [
    "def runLLM(node_id, schema_dictionary):\n",
    "    '''\n",
    "        put a funciton that runs the LLM here\n",
    "    '''\n",
    "    for node in schema_dictionary['nodes']:\n",
    "        print(node)\n",
    "        if node['id'] == node_id:\n",
    "            prompt = ''\n",
    "            for key in node['data'].keys():\n",
    "                print(len(node['data'].keys()))\n",
    "                prompt += node['data'][key]\n",
    "                prompt += \" \\n\"\n",
    "            # run LLM on prompt, note that this output will need to be sent over web somehow\n",
    "    #for testing just return the prompt\n",
    "    return prompt"
   ]
  },
  {
   "cell_type": "code",
   "execution_count": 49,
   "metadata": {},
   "outputs": [],
   "source": [
    "def runSchema(schema_dictionary):\n",
    "    '''\n",
    "        Take a schema and run the flow. \n",
    "        \n",
    "        Need a function that finds the root of the tree first.\n",
    "\n",
    "        Also needs a function to c\n",
    "\n",
    "        There are 2 things to track, what the current graph looks like and the stack of \n",
    "        nodes to run and their received prompts. Nodes on the stack have to check if they are a \n",
    "        root, or else they are not run yet. Root nodes on the stack are run in order, then\n",
    "        targets are added to the stack with their associated prompt. If the target is already\n",
    "        on the stack, simply give it the additional prompt.\n",
    "\n",
    "        If there are nodes, and all of the nodes have a source, this means that there is a loop \n",
    "        somewhere in the graph. We still want to run the flow, because recursive nodes are a \n",
    "        selling point. In this case, if ALL the nodes have a source, pick the most recently \n",
    "        created node and run it, sending its prompts and adding the new targets to the stack. We\n",
    "        do not update the graph now, instead simply running the node, then its targets in order.\n",
    "        This will continue running iterations, until a stop button is pressed.\n",
    "\n",
    "        The user will probably want to\n",
    "\n",
    "        We should create a stack, a list of dictionaries that look like this:\n",
    "        [{node_id: ____, sources_dict:{source_id:received_prompt = \"\" }}]\n",
    "        This forms a stack. Sources dict may or may not have multiple source_ids in it. Queue up\n",
    "        the next nodes to run based on what the targets of the node you just ran are. If\n",
    "        a node has multiple sources when it's run, combine those sources into one prompt\n",
    "        via concatenation. Received prompts are added first, with the LLMs actual text\n",
    "        entered into it added last. We may have to do prompt engineering to make sure\n",
    "        the LLM answers the prompt inputted into the box and not questions received as context,\n",
    "        but this is not preferred.\n",
    "        For bonus points, add an option to use dfs or bfs\n",
    "    '''\n",
    "    seen_edges=[]\n",
    "    seen_nodes=[]\n",
    "    #entries of a stack [{'node_id':____, 'edge_id':____, prompts:[]}]\n",
    "    next_stack=[]\n",
    "    current_stack=[]\n",
    "\n",
    "    roots = findRoots(schema_dictionary)\n",
    "    print(roots)\n",
    "    #if there are roots to schema, get all the edge ids and targets from the schema which that \n",
    "    #root is the source for. Run the roots. As you run the roots, put their outputs as a new entry\n",
    "    #in data\n",
    "    for root in roots:\n",
    "        for edge in schema_dictionary['edges']:\n",
    "            if edge['source']==root:\n",
    "                edge_id = edge['id']\n",
    "                runLLM(root, schema_dictionary)"
   ]
  },
  {
   "cell_type": "code",
   "execution_count": 50,
   "metadata": {},
   "outputs": [
    {
     "name": "stdout",
     "output_type": "stream",
     "text": [
      "['00001']\n",
      "{'id': '00001', 'type': 'textInput', 'data': {'label': 'You are Frodo. Say something interesting, and respond to text above if you received any.'}, 'position': {'x': 195.185336410498, 'y': 46.87644239300134}, 'width': 289, 'height': 50, 'selected': False, 'positionAbsolute': {'x': 195.185336410498, 'y': 46.87644239300134}, 'dragging': False}\n",
      "1\n",
      "{'id': '3159559', 'type': 'textInput', 'data': {'label': 'You are Sam. Say something interesting, and respond to text above if you received any.'}, 'position': {'x': 222, 'y': 292}, 'width': 324, 'height': 50, 'selected': False, 'positionAbsolute': {'x': 222, 'y': 292}, 'dragging': False}\n",
      "{'id': '3166128', 'type': 'textInput', 'data': {'label': 'You are Legolas. Say something interesting, and respond to text above if you received any.'}, 'position': {'x': 570, 'y': 64.1}, 'width': 337, 'height': 50, 'selected': False, 'positionAbsolute': {'x': 570, 'y': 64.1}, 'dragging': False}\n",
      "{'id': '3171323', 'type': 'textInput', 'data': {'label': 'You are Aragorn. Say something interesting, and respond to text above if you received any.'}, 'position': {'x': 632, 'y': 306.525}, 'width': 308, 'height': 50, 'selected': False, 'positionAbsolute': {'x': 632, 'y': 306.525}, 'dragging': False}\n",
      "{'id': '00001', 'type': 'textInput', 'data': {'label': 'You are Frodo. Say something interesting, and respond to text above if you received any.'}, 'position': {'x': 195.185336410498, 'y': 46.87644239300134}, 'width': 289, 'height': 50, 'selected': False, 'positionAbsolute': {'x': 195.185336410498, 'y': 46.87644239300134}, 'dragging': False}\n",
      "1\n",
      "{'id': '3159559', 'type': 'textInput', 'data': {'label': 'You are Sam. Say something interesting, and respond to text above if you received any.'}, 'position': {'x': 222, 'y': 292}, 'width': 324, 'height': 50, 'selected': False, 'positionAbsolute': {'x': 222, 'y': 292}, 'dragging': False}\n",
      "{'id': '3166128', 'type': 'textInput', 'data': {'label': 'You are Legolas. Say something interesting, and respond to text above if you received any.'}, 'position': {'x': 570, 'y': 64.1}, 'width': 337, 'height': 50, 'selected': False, 'positionAbsolute': {'x': 570, 'y': 64.1}, 'dragging': False}\n",
      "{'id': '3171323', 'type': 'textInput', 'data': {'label': 'You are Aragorn. Say something interesting, and respond to text above if you received any.'}, 'position': {'x': 632, 'y': 306.525}, 'width': 308, 'height': 50, 'selected': False, 'positionAbsolute': {'x': 632, 'y': 306.525}, 'dragging': False}\n"
     ]
    }
   ],
   "source": [
    "runSchema(schema_dictionary)"
   ]
  },
  {
   "cell_type": "code",
   "execution_count": 39,
   "metadata": {},
   "outputs": [
    {
     "data": {
      "text/plain": [
       "{'nodes': [{'id': '00001',\n",
       "   'type': 'textInput',\n",
       "   'data': {'label': 'You are Frodo. Say something interesting, and respond to text above if you received any.'},\n",
       "   'position': {'x': 195.185336410498, 'y': 46.87644239300134},\n",
       "   'width': 289,\n",
       "   'height': 50,\n",
       "   'selected': False,\n",
       "   'positionAbsolute': {'x': 195.185336410498, 'y': 46.87644239300134},\n",
       "   'dragging': False},\n",
       "  {'id': '3159559',\n",
       "   'type': 'textInput',\n",
       "   'data': {'label': 'You are Sam. Say something interesting, and respond to text above if you received any.'},\n",
       "   'position': {'x': 222, 'y': 292},\n",
       "   'width': 324,\n",
       "   'height': 50,\n",
       "   'selected': False,\n",
       "   'positionAbsolute': {'x': 222, 'y': 292},\n",
       "   'dragging': False},\n",
       "  {'id': '3166128',\n",
       "   'type': 'textInput',\n",
       "   'data': {'label': 'You are Legolas. Say something interesting, and respond to text above if you received any.'},\n",
       "   'position': {'x': 570, 'y': 64.1},\n",
       "   'width': 337,\n",
       "   'height': 50,\n",
       "   'selected': False,\n",
       "   'positionAbsolute': {'x': 570, 'y': 64.1},\n",
       "   'dragging': False},\n",
       "  {'id': '3171323',\n",
       "   'type': 'textInput',\n",
       "   'data': {'label': 'You are Aragorn. Say something interesting, and respond to text above if you received any.'},\n",
       "   'position': {'x': 632, 'y': 306.525},\n",
       "   'width': 308,\n",
       "   'height': 50,\n",
       "   'selected': False,\n",
       "   'positionAbsolute': {'x': 632, 'y': 306.525},\n",
       "   'dragging': False}],\n",
       " 'edges': [{'id': 'e1-2', 'source': '1', 'target': '2'},\n",
       "  {'source': '00001',\n",
       "   'sourceHandle': 'bottom',\n",
       "   'target': '3159559',\n",
       "   'targetHandle': 'top',\n",
       "   'id': 'reactflow__edge-00001bottom-3159559top'},\n",
       "  {'source': '00001',\n",
       "   'sourceHandle': 'right',\n",
       "   'target': '3166128',\n",
       "   'targetHandle': 'left',\n",
       "   'id': 'reactflow__edge-00001right-3166128left'},\n",
       "  {'source': '3166128',\n",
       "   'sourceHandle': 'bottom',\n",
       "   'target': '3171323',\n",
       "   'targetHandle': 'top',\n",
       "   'id': 'reactflow__edge-3166128bottom-3171323top'},\n",
       "  {'source': '3159559',\n",
       "   'sourceHandle': 'right',\n",
       "   'target': '3171323',\n",
       "   'targetHandle': 'left',\n",
       "   'id': 'reactflow__edge-3159559right-3171323left'}]}"
      ]
     },
     "execution_count": 39,
     "metadata": {},
     "output_type": "execute_result"
    }
   ],
   "source": [
    "schema_dictionary"
   ]
  },
  {
   "cell_type": "code",
   "execution_count": null,
   "metadata": {},
   "outputs": [],
   "source": []
  }
 ],
 "metadata": {
  "kernelspec": {
   "display_name": "Python 3",
   "language": "python",
   "name": "python3"
  },
  "language_info": {
   "codemirror_mode": {
    "name": "ipython",
    "version": 3
   },
   "file_extension": ".py",
   "mimetype": "text/x-python",
   "name": "python",
   "nbconvert_exporter": "python",
   "pygments_lexer": "ipython3",
   "version": "3.9.6"
  },
  "orig_nbformat": 4
 },
 "nbformat": 4,
 "nbformat_minor": 2
}
